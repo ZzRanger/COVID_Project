{
 "cells": [
  {
   "cell_type": "markdown",
   "metadata": {},
   "source": [
    "# Process Data"
   ]
  },
  {
   "cell_type": "code",
   "execution_count": 94,
   "metadata": {},
   "outputs": [],
   "source": [
    "# Import Libraries\n",
    "import pandas as pd"
   ]
  },
  {
   "cell_type": "markdown",
   "metadata": {},
   "source": [
    "## World Population"
   ]
  },
  {
   "cell_type": "code",
   "execution_count": null,
   "metadata": {},
   "outputs": [],
   "source": [
    "# Import World Population\n",
    "pop_path = 'data/raw/country_pop.csv'\n",
    "country_pop = process.pop(pop_path)"
   ]
  },
  {
   "cell_type": "markdown",
   "metadata": {},
   "source": [
    "## JHU "
   ]
  },
  {
   "cell_type": "code",
   "execution_count": 86,
   "metadata": {},
   "outputs": [],
   "source": [
    "# Import libraries\n",
    "import src.processing.processing as process # Python file used to process raw data\n",
    "import importlib \n",
    "importlib.reload(process)\n",
    "import pprint\n",
    "\n",
    "# Data File Paths\n",
    "jhu_paths = ['data/raw/time_series_covid19_confirmed_global.csv', \n",
    "         'data/raw/time_series_covid19_deaths_global.csv',\n",
    "         'data/raw/time_series_covid19_recovered_global.csv']\n",
    "\n",
    "# Import JHU Data\n",
    "covid_confirmed, covid_deaths, covid_recovered = process.import_data(paths[0], paths[1], paths[2])"
   ]
  },
  {
   "cell_type": "code",
   "execution_count": null,
   "metadata": {},
   "outputs": [],
   "source": [
    "# Time Series W/ Countries as Index"
   ]
  },
  {
   "cell_type": "markdown",
   "metadata": {},
   "source": [
    "## SIR"
   ]
  },
  {
   "cell_type": "code",
   "execution_count": 87,
   "metadata": {},
   "outputs": [],
   "source": [
    "# Convert JHU Data Into SIR Data (Note: takes a while to run)\n",
    "s_countries, i_countries, r_countries = process.process_sir(covid_confirmed, covid_deaths, covid_recovered, country_pop)"
   ]
  },
  {
   "cell_type": "markdown",
   "metadata": {},
   "source": [
    "## LSTM"
   ]
  },
  {
   "cell_type": "code",
   "execution_count": 96,
   "metadata": {},
   "outputs": [
    {
     "data": {
      "text/plain": [
       "1/22/20         555\n",
       "1/23/20         654\n",
       "1/24/20         941\n",
       "1/25/20        1434\n",
       "1/26/20        2118\n",
       "             ...   \n",
       "8/19/20    22410579\n",
       "8/20/20    22677762\n",
       "8/21/20    22948513\n",
       "8/22/20    23202811\n",
       "8/23/20    23419697\n",
       "Length: 215, dtype: int64"
      ]
     },
     "execution_count": 96,
     "metadata": {},
     "output_type": "execute_result"
    }
   ],
   "source": [
    "# Convert JHU Data Into Global Time Series\n",
    "global_time_series = pd.Series(index = covid_confirmed.columns[4:], data = [covid_confirmed.loc[:, i].sum() for i in covid_confirmed.columns[4:]])\n",
    "global_time_series"
   ]
  },
  {
   "cell_type": "markdown",
   "metadata": {},
   "source": [
    "## Gaussian"
   ]
  },
  {
   "cell_type": "code",
   "execution_count": 98,
   "metadata": {},
   "outputs": [],
   "source": [
    "us_deaths_time_series = pd.Series(index = covid_deaths.columns[4:], data = [covid_deaths[covid_deaths['Country/Region'] == 'US'].loc[:, i].sum() for i in covid_confirmed.columns[4:]])"
   ]
  },
  {
   "cell_type": "markdown",
   "metadata": {},
   "source": [
    "# Save Data to Processed Folder"
   ]
  },
  {
   "cell_type": "code",
   "execution_count": 109,
   "metadata": {},
   "outputs": [],
   "source": [
    "covid_confirmed.to_csv('data/processed/General/covid_confirmed.csv')\n",
    "covid_deaths.to_csv('data/processed/General/covid_deaths.csv')\n",
    "covid_recovered.to_csv('data/processed/General/covid_recovered.csv')\n",
    "\n",
    "s_countries.to_csv('data/processed/SIR/s_countries.csv')\n",
    "i_countries.to_csv('data/processed/SIR/i_countries.csv')\n",
    "r_countries.to_csv('data/processed/SIR/r_countries.csv')\n",
    "\n",
    "global_time_series.to_csv('data/processed/LSTM/global_time_series.csv')\n",
    "us_deaths_time_series.to_csv('data/processed/Gaussian/us_deaths_time_series.csv')"
   ]
  },
  {
   "cell_type": "code",
   "execution_count": null,
   "metadata": {},
   "outputs": [],
   "source": []
  }
 ],
 "metadata": {
  "kernelspec": {
   "display_name": "Python 3",
   "language": "python",
   "name": "python3"
  },
  "language_info": {
   "codemirror_mode": {
    "name": "ipython",
    "version": 3
   },
   "file_extension": ".py",
   "mimetype": "text/x-python",
   "name": "python",
   "nbconvert_exporter": "python",
   "pygments_lexer": "ipython3",
   "version": "3.8.3"
  }
 },
 "nbformat": 4,
 "nbformat_minor": 4
}
